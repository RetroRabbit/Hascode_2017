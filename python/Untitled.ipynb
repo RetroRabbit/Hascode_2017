{
 "cells": [
  {
   "cell_type": "code",
   "execution_count": 20,
   "metadata": {
    "collapsed": false
   },
   "outputs": [],
   "source": [
    "import re\n",
    "\n",
    "def readfile(filename):\n",
    "    with open(filename, 'r') as f:\n",
    "        #5 videos, 2 endpoints, 4 request descriptions, 3 caches 100MB each.\n",
    "        num_vids, num_endpoints, num_request_desc, num_caches, cache_size = [int(x) for x in next(f).split()] # read first line\n",
    "\n",
    "        #Videos 0, 1, 2, 3, 4 have sizes 50MB, 50MB, 80MB, 30MB, 110MB.\n",
    "        vid_sizes = [int(x) for x in next(f).split()]\n",
    "        \n",
    "        endpoints = []\n",
    "        for e in xrange(num_endpoints):\n",
    "            endpoint = {}\n",
    "            L_d, C = [int(x) for x in next(f).split()]\n",
    "            caches = {}\n",
    "            for c in xrange(C):\n",
    "                cache_id, L_c = next(f).split()\n",
    "                caches[cache_id] = L_c\n",
    "            endpoint = {\n",
    "                'L_d': L_d,\n",
    "                'C': C,\n",
    "                'caches': caches\n",
    "            }\n",
    "            endpoints.append(endpoint)\n",
    "\n",
    "        \n",
    "        request_descriptions = []\n",
    "        for v in xrange(num_request_desc):\n",
    "            vid, endpoint_index, number_of_requests = [int(x) for x in next(f).split()]\n",
    "            request_descriptions.append({\n",
    "                'vid_index': vid,\n",
    "                'endpoint_index': endpoint_index,\n",
    "                'num_r': number_of_requests\n",
    "            })\n",
    "        \n",
    "        return num_vids, num_endpoints, num_request_desc, num_caches, cache_size, vid_sizes, endpoints, request_descriptions\n",
    "        #Endpoint 0 has 1000ms datacenter latency and is connected to 3 caches:\n",
    "        #The latency (of endpoint 0) to cache 0 is 100ms.\n",
    "        #The latency (of endpoint 0) to cache 2 is 200ms.\n",
    "        #The latency (of endpoint 0) to cache 1 is 200ms.\n",
    "        #Endpoint 1 has 500ms datacenter latency and is not connected to a cache.\n",
    "        #1500 requests for video 3 coming from endpoint 0.\n",
    "        #1000 requests for video 0 coming from endpoint 1.\n",
    "        #500 requests for video 4 coming from endpoint 0.\n",
    "        #1000 requests for video 1 coming from endpoint 0.\n",
    "\n",
    "\n",
    "def output(filename, num_cache, caches):\n",
    "    with open(filename, 'w') as f:\n",
    "        # output num cache\n",
    "        f.write(str(num_cache) + '\\n')\n",
    "        for cache in caches:\n",
    "            # output cache id\n",
    "            line = ' '.join([str(cache['id'])] + [ str(c) for c in cache['videos']])\n",
    "            #line = str(cache['id']) + ' ' + cache['videos'] + '\\n'\n",
    "            f.write(line + '\\n')\n",
    "\n",
    "num_vids, num_endpoints, num_request_desc, num_caches, cache_size, vid_sizes, endpoints, request_descriptions = readfile('me_at_the_zoo.in')\n",
    "output('test.out', 3, [{'id': 0, 'videos': [1,2]},{'id': 1, 'videos': [1,2]},{'id': 3, 'videos': [1,2]}])\n"
   ]
  },
  {
   "cell_type": "code",
   "execution_count": null,
   "metadata": {
    "collapsed": true
   },
   "outputs": [],
   "source": []
  }
 ],
 "metadata": {
  "kernelspec": {
   "display_name": "Python 2",
   "language": "python",
   "name": "python2"
  },
  "language_info": {
   "codemirror_mode": {
    "name": "ipython",
    "version": 2
   },
   "file_extension": ".py",
   "mimetype": "text/x-python",
   "name": "python",
   "nbconvert_exporter": "python",
   "pygments_lexer": "ipython2",
   "version": "2.7.11"
  }
 },
 "nbformat": 4,
 "nbformat_minor": 0
}
